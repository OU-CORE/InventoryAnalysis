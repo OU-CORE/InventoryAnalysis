{
 "cells": [
  {
   "cell_type": "markdown",
   "id": "coordinate-deadline",
   "metadata": {},
   "source": [
    "### Building Inventory Analysis \n",
    "by OU Core Community Resillience Lab\n",
    "\n",
    "##### Tarun Adluri"
   ]
  },
  {
   "cell_type": "code",
   "execution_count": 2,
   "id": "descending-graphics",
   "metadata": {},
   "outputs": [],
   "source": [
    "import pandas as pd\n",
    "import numpy as np\n",
    "import matplotlib.pyplot as plt"
   ]
  },
  {
   "cell_type": "code",
   "execution_count": 38,
   "id": "through-software",
   "metadata": {},
   "outputs": [
    {
     "name": "stdout",
     "output_type": "stream",
     "text": [
      "Select Community: {Seaside,Joplin,Lumberton,Shelby} : Seaside\n"
     ]
    }
   ],
   "source": [
    "Community = (input(\"Select Community: {Seaside,Joplin,Lumberton,Shelby} : \"))"
   ]
  },
  {
   "cell_type": "code",
   "execution_count": 65,
   "id": "lightweight-antigua",
   "metadata": {},
   "outputs": [],
   "source": [
    "buildings_data = pd.read_csv(\"{}_Building_Inventory.csv\".format(Community))\n",
    "population = pd.read_csv(\"{}_addresspointinventory.csv\".format(Community))"
   ]
  },
  {
   "cell_type": "code",
   "execution_count": 88,
   "id": "tired-musician",
   "metadata": {},
   "outputs": [],
   "source": [
    "a = pd.read_csv(\"IN-CORE_1bv6_SetupSeaside_FourInventories_2019-08-02_buildinginventory.csv\")"
   ]
  },
  {
   "cell_type": "code",
   "execution_count": 89,
   "id": "fourth-consent",
   "metadata": {},
   "outputs": [
    {
     "data": {
      "text/plain": [
       "Index(['strctid', 'blockid', 'parcelid', 'huestimate', 'x', 'y', 'landuse',\n",
       "       'guid', 'd_sf', 'insignific', 'moderate', 'heavy', 'complete'],\n",
       "      dtype='object')"
      ]
     },
     "execution_count": 89,
     "metadata": {},
     "output_type": "execute_result"
    }
   ],
   "source": [
    "a.columns"
   ]
  },
  {
   "cell_type": "code",
   "execution_count": 90,
   "id": "painful-thinking",
   "metadata": {},
   "outputs": [
    {
     "data": {
      "text/plain": [
       "count                                     3687\n",
       "unique                                    3687\n",
       "top       88962b19-8096-433a-b394-655300387dfa\n",
       "freq                                         1\n",
       "Name: guid, dtype: object"
      ]
     },
     "execution_count": 90,
     "metadata": {},
     "output_type": "execute_result"
    }
   ],
   "source": [
    "a[\"guid\"].describe()"
   ]
  },
  {
   "cell_type": "code",
   "execution_count": 91,
   "id": "increasing-tradition",
   "metadata": {},
   "outputs": [
    {
     "data": {
      "text/plain": [
       "count                                     4679\n",
       "unique                                    4679\n",
       "top       25d7a693-821a-4727-a229-6fcbd1ad7845\n",
       "freq                                         1\n",
       "Name: guid, dtype: object"
      ]
     },
     "execution_count": 91,
     "metadata": {},
     "output_type": "execute_result"
    }
   ],
   "source": [
    "buildings_data[\"guid\"].describe()"
   ]
  },
  {
   "cell_type": "code",
   "execution_count": 86,
   "id": "accurate-desire",
   "metadata": {},
   "outputs": [
    {
     "data": {
      "text/plain": [
       "Index(['parid', 'parid_card', 'bldg_id', 'struct_typ', 'str_prob',\n",
       "       'year_built', 'no_stories', 'a_stories', 'b_stories', 'bsmt_type',\n",
       "       'sq_foot', 'gsq_foot', 'occ_type', 'occ_detail', 'major_occ',\n",
       "       'broad_occ', 'appr_bldg', 'repl_cst', 'str_cst', 'nstra_cst',\n",
       "       'nstrd_cst', 'dgn_lvl', 'cont_val', 'efacility', 'dwell_unit',\n",
       "       'str_typ2', 'occ_typ2', 'tract_id', 'guid', 'FID_NEW', 'origin',\n",
       "       'stat_class', 'rmv_improv', 'rmv_land', 'elev', 'period'],\n",
       "      dtype='object')"
      ]
     },
     "execution_count": 86,
     "metadata": {},
     "output_type": "execute_result"
    }
   ],
   "source": [
    "buildings_data.columns"
   ]
  },
  {
   "cell_type": "code",
   "execution_count": 87,
   "id": "linear-viewer",
   "metadata": {},
   "outputs": [
    {
     "data": {
      "text/plain": [
       "Index(['blockid', 'addrptid', 'strctid', 'x', 'y', 'huestimate',\n",
       "       'residential'],\n",
       "      dtype='object')"
      ]
     },
     "execution_count": 87,
     "metadata": {},
     "output_type": "execute_result"
    }
   ],
   "source": [
    "population.columns"
   ]
  },
  {
   "cell_type": "markdown",
   "id": "reliable-fifty",
   "metadata": {},
   "source": [
    "#### Number of Buildings"
   ]
  },
  {
   "cell_type": "code",
   "execution_count": 54,
   "id": "welsh-semester",
   "metadata": {},
   "outputs": [
    {
     "name": "stdout",
     "output_type": "stream",
     "text": [
      "The number of buildings in the Seaside community are 4679\n"
     ]
    }
   ],
   "source": [
    "Count = len(buildings_data)\n",
    "print(\"The number of buildings in the {} community are\".format(Community),Count)"
   ]
  },
  {
   "cell_type": "markdown",
   "id": "middle-ranch",
   "metadata": {},
   "source": [
    "#### Number of Buildigns in Each Archetype"
   ]
  },
  {
   "cell_type": "code",
   "execution_count": 59,
   "id": "enormous-violation",
   "metadata": {},
   "outputs": [
    {
     "name": "stdout",
     "output_type": "stream",
     "text": [
      "Total Number of Buildings in the Seaside community for each Archetype: \n",
      " W1    2444\n",
      "RC    1504\n",
      "W2     731\n",
      "Name: struct_typ, dtype: int64\n"
     ]
    }
   ],
   "source": [
    "Type = buildings_data[\"struct_typ\"].value_counts()\n",
    "print(\"Total Number of Buildings in the {} community for each Archetype: \\n\".format(Community), Type)"
   ]
  },
  {
   "cell_type": "markdown",
   "id": "civilian-burden",
   "metadata": {},
   "source": [
    "#### Total Number of Buildings in Each Retrofit Level"
   ]
  },
  {
   "cell_type": "code",
   "execution_count": 60,
   "id": "major-export",
   "metadata": {},
   "outputs": [
    {
     "name": "stdout",
     "output_type": "stream",
     "text": [
      "Total Number of Buildings in the Seaside community for each Retrofit Level: \n",
      " Pre - Code         2472\n",
      "Moderate - Code     849\n",
      "Low - Code          775\n",
      "High - Code         583\n",
      "Name: dgn_lvl, dtype: int64\n"
     ]
    }
   ],
   "source": [
    "Retrofit = buildings_data[\"dgn_lvl\"].value_counts()\n",
    "print(\"Total Number of Buildings in the {} community for each Retrofit Level: \\n\".format(Community), Retrofit)"
   ]
  },
  {
   "cell_type": "markdown",
   "id": "overhead-digit",
   "metadata": {},
   "source": [
    "#### Total RMV of Buildings"
   ]
  },
  {
   "cell_type": "code",
   "execution_count": 61,
   "id": "overall-rwanda",
   "metadata": {},
   "outputs": [
    {
     "name": "stdout",
     "output_type": "stream",
     "text": [
      "Total Market Value of buildings in the Seaside community is $ 818423794.0\n"
     ]
    }
   ],
   "source": [
    "TotalMarketValue = buildings_data[\"rmv_improv\"].sum()\n",
    "print(\"Total Market Value of buildings in the {} community is $\".format(Community),TotalMarketValue)"
   ]
  },
  {
   "cell_type": "markdown",
   "id": "welsh-animation",
   "metadata": {},
   "source": [
    "#### Range of RMV"
   ]
  },
  {
   "cell_type": "code",
   "execution_count": 62,
   "id": "polished-valley",
   "metadata": {},
   "outputs": [
    {
     "name": "stdout",
     "output_type": "stream",
     "text": [
      "Seaside community range of retail market value $ 0.0 and $ 17697441.0\n"
     ]
    }
   ],
   "source": [
    "Min_RMV = buildings_data[\"rmv_improv\"].min()\n",
    "Max_RMV = buildings_data[\"rmv_improv\"].max()\n",
    "print(\"{} community range of retail market value $\".format(Community), Min_RMV,\"and $\",Max_RMV )"
   ]
  },
  {
   "cell_type": "markdown",
   "id": "complimentary-uzbekistan",
   "metadata": {},
   "source": [
    "#### Year Built Information of Buildings "
   ]
  },
  {
   "cell_type": "code",
   "execution_count": 63,
   "id": "every-circumstances",
   "metadata": {},
   "outputs": [
    {
     "name": "stdout",
     "output_type": "stream",
     "text": [
      "Seaside community has information of buildings built between year 0 and 2203\n"
     ]
    }
   ],
   "source": [
    "Min_Year = buildings_data[\"year_built\"].min()\n",
    "Max_Year = buildings_data[\"year_built\"].max()\n",
    "print(\"{} community has information of buildings built between year\".format(Community), Min_Year,\"and\",Max_Year )"
   ]
  },
  {
   "cell_type": "markdown",
   "id": "alternative-arrangement",
   "metadata": {},
   "source": [
    "#### Average Age of Buildings"
   ]
  },
  {
   "cell_type": "code",
   "execution_count": 64,
   "id": "expressed-statement",
   "metadata": {},
   "outputs": [
    {
     "name": "stdout",
     "output_type": "stream",
     "text": [
      "The average age of buildings in the Seaside commuinity is 70.36845479803377\n"
     ]
    }
   ],
   "source": [
    "buildings_data[\"Age\"] = 2021 - buildings_data[\"year_built\"]\n",
    "Avg_Age = buildings_data[\"Age\"].mean()\n",
    "print(\"The average age of buildings in the {} commuinity is\".format(Community), Avg_Age)"
   ]
  },
  {
   "cell_type": "markdown",
   "id": "cleared-priority",
   "metadata": {},
   "source": [
    "#### Total Residential Buildings"
   ]
  },
  {
   "cell_type": "code",
   "execution_count": 85,
   "id": "mexican-statement",
   "metadata": {},
   "outputs": [
    {
     "name": "stdout",
     "output_type": "stream",
     "text": [
      "Residential Buildings in Seaside community: 5988\n"
     ]
    }
   ],
   "source": [
    "Num_Residential = population[\"residential\"].sum() \n",
    "print(\"Residential Buildings in {} community:\".format(Community),Num_Residential)"
   ]
  },
  {
   "cell_type": "code",
   "execution_count": null,
   "id": "entertaining-carry",
   "metadata": {},
   "outputs": [],
   "source": []
  }
 ],
 "metadata": {
  "kernelspec": {
   "display_name": "Python 3",
   "language": "python",
   "name": "python3"
  },
  "language_info": {
   "codemirror_mode": {
    "name": "ipython",
    "version": 3
   },
   "file_extension": ".py",
   "mimetype": "text/x-python",
   "name": "python",
   "nbconvert_exporter": "python",
   "pygments_lexer": "ipython3",
   "version": "3.7.8"
  }
 },
 "nbformat": 4,
 "nbformat_minor": 5
}
