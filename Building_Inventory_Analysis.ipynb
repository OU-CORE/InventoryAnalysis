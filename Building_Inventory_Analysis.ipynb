{
 "cells": [
  {
   "cell_type": "markdown",
   "id": "coordinate-deadline",
   "metadata": {},
   "source": [
    "### Building Inventory Analysis \n",
    "by OU Core Community Resillience Lab\n",
    "\n",
    "##### Tarun Adluri\n",
    "##### Rafia Bushra\n",
    "##### Himdari Sen Gupta\n",
    "##### Yunjie Wen"
   ]
  },
  {
   "cell_type": "code",
   "execution_count": 2,
   "id": "descending-graphics",
   "metadata": {},
   "outputs": [],
   "source": [
    "import pandas as pd\n",
    "import numpy as np\n",
    "import matplotlib.pyplot as plt"
   ]
  },
  {
   "cell_type": "code",
   "execution_count": 38,
   "id": "through-software",
   "metadata": {},
   "outputs": [
    {
     "name": "stdout",
     "output_type": "stream",
     "text": [
      "Select Community: {Seaside,Joplin,Lumberton,Shelby} : Seaside\n"
     ]
    }
   ],
   "source": [
    "Community = (input(\"Select Community: {Seaside,Joplin,Lumberton,Shelby} : \"))"
   ]
  },
  {
   "cell_type": "code",
   "execution_count": 10,
   "id": "lightweight-antigua",
   "metadata": {},
   "outputs": [],
   "source": [
    "buildings_data = pd.read_csv(\"{}_Building_Inventory.csv\".format(Community))"
   ]
  },
  {
   "cell_type": "markdown",
   "id": "reliable-fifty",
   "metadata": {},
   "source": [
    "#### Number of Buildings"
   ]
  },
  {
   "cell_type": "code",
   "execution_count": 12,
   "id": "becoming-washer",
   "metadata": {},
   "outputs": [
    {
     "name": "stdout",
     "output_type": "stream",
     "text": [
      "<class 'pandas.core.frame.DataFrame'>\n",
      "RangeIndex: 4679 entries, 0 to 4678\n",
      "Data columns (total 36 columns):\n",
      " #   Column      Non-Null Count  Dtype  \n",
      "---  ------      --------------  -----  \n",
      " 0   parid       0 non-null      float64\n",
      " 1   parid_card  0 non-null      float64\n",
      " 2   bldg_id     0 non-null      float64\n",
      " 3   struct_typ  4679 non-null   object \n",
      " 4   str_prob    0 non-null      float64\n",
      " 5   year_built  4679 non-null   int64  \n",
      " 6   no_stories  4679 non-null   int64  \n",
      " 7   a_stories   0 non-null      float64\n",
      " 8   b_stories   0 non-null      float64\n",
      " 9   bsmt_type   0 non-null      float64\n",
      " 10  sq_foot     0 non-null      float64\n",
      " 11  gsq_foot    0 non-null      float64\n",
      " 12  occ_type    0 non-null      float64\n",
      " 13  occ_detail  0 non-null      float64\n",
      " 14  major_occ   0 non-null      float64\n",
      " 15  broad_occ   0 non-null      float64\n",
      " 16  appr_bldg   4679 non-null   int64  \n",
      " 17  repl_cst    0 non-null      float64\n",
      " 18  str_cst     0 non-null      float64\n",
      " 19  nstra_cst   0 non-null      float64\n",
      " 20  nstrd_cst   0 non-null      float64\n",
      " 21  dgn_lvl     4679 non-null   object \n",
      " 22  cont_val    0 non-null      float64\n",
      " 23  efacility   0 non-null      float64\n",
      " 24  dwell_unit  0 non-null      float64\n",
      " 25  str_typ2    4679 non-null   object \n",
      " 26  occ_typ2    0 non-null      float64\n",
      " 27  tract_id    0 non-null      float64\n",
      " 28  guid        4679 non-null   object \n",
      " 29  FID_NEW     4679 non-null   int64  \n",
      " 30  origin      4679 non-null   int64  \n",
      " 31  stat_class  4679 non-null   int64  \n",
      " 32  rmv_improv  4679 non-null   float64\n",
      " 33  rmv_land    4679 non-null   float64\n",
      " 34  elev        4679 non-null   float64\n",
      " 35  period      4679 non-null   float64\n",
      "dtypes: float64(26), int64(6), object(4)\n",
      "memory usage: 1.3+ MB\n"
     ]
    }
   ],
   "source": [
    "buildings_data.info()"
   ]
  },
  {
   "cell_type": "code",
   "execution_count": 54,
   "id": "welsh-semester",
   "metadata": {},
   "outputs": [
    {
     "name": "stdout",
     "output_type": "stream",
     "text": [
      "The number of buildings in the Seaside community are 4679\n"
     ]
    }
   ],
   "source": [
    "Count = len(buildings_data)\n",
    "print(\"The number of buildings in the {} community are\".format(Community),Count)"
   ]
  },
  {
   "cell_type": "markdown",
   "id": "middle-ranch",
   "metadata": {},
   "source": [
    "#### Number of Buildigns in Each Archetype"
   ]
  },
  {
   "cell_type": "code",
   "execution_count": 59,
   "id": "enormous-violation",
   "metadata": {},
   "outputs": [
    {
     "name": "stdout",
     "output_type": "stream",
     "text": [
      "Total Number of Buildings in the Seaside community for each Archetype: \n",
      " W1    2444\n",
      "RC    1504\n",
      "W2     731\n",
      "Name: struct_typ, dtype: int64\n"
     ]
    }
   ],
   "source": [
    "Type = buildings_data[\"struct_typ\"].value_counts()\n",
    "print(\"Total Number of Buildings in the {} community for each Archetype: \\n\".format(Community), Type)"
   ]
  },
  {
   "cell_type": "markdown",
   "id": "civilian-burden",
   "metadata": {},
   "source": [
    "#### Total Number of Buildings in Each Retrofit Level"
   ]
  },
  {
   "cell_type": "code",
   "execution_count": 60,
   "id": "major-export",
   "metadata": {},
   "outputs": [
    {
     "name": "stdout",
     "output_type": "stream",
     "text": [
      "Total Number of Buildings in the Seaside community for each Retrofit Level: \n",
      " Pre - Code         2472\n",
      "Moderate - Code     849\n",
      "Low - Code          775\n",
      "High - Code         583\n",
      "Name: dgn_lvl, dtype: int64\n"
     ]
    }
   ],
   "source": [
    "Retrofit = buildings_data[\"dgn_lvl\"].value_counts()\n",
    "print(\"Total Number of Buildings in the {} community for each Retrofit Level: \\n\".format(Community), Retrofit)"
   ]
  },
  {
   "cell_type": "markdown",
   "id": "overhead-digit",
   "metadata": {},
   "source": [
    "#### Total RMV of Buildings"
   ]
  },
  {
   "cell_type": "code",
   "execution_count": 61,
   "id": "overall-rwanda",
   "metadata": {},
   "outputs": [
    {
     "name": "stdout",
     "output_type": "stream",
     "text": [
      "Total Market Value of buildings in the Seaside community is $ 818423794.0\n"
     ]
    }
   ],
   "source": [
    "TotalMarketValue = buildings_data[\"rmv_improv\"].sum()\n",
    "print(\"Total Market Value of buildings in the {} community is $\".format(Community),TotalMarketValue)"
   ]
  },
  {
   "cell_type": "code",
   "execution_count": 62,
   "id": "polished-valley",
   "metadata": {},
   "outputs": [
    {
     "name": "stdout",
     "output_type": "stream",
     "text": [
      "Seaside community range of retail market value $ 0.0 and $ 17697441.0\n"
     ]
    }
   ],
   "source": [
    "Min_RMV = buildings_data[\"rmv_improv\"].min()\n",
    "Max_RMV = buildings_data[\"rmv_improv\"].max()\n",
    "print(\"{} community range of retail market value $\".format(Community), Min_RMV,\"and $\",Max_RMV )"
   ]
  },
  {
   "cell_type": "markdown",
   "id": "complimentary-uzbekistan",
   "metadata": {},
   "source": [
    "#### Year Built Information of Buildings "
   ]
  },
  {
   "cell_type": "code",
   "execution_count": 63,
   "id": "every-circumstances",
   "metadata": {},
   "outputs": [
    {
     "name": "stdout",
     "output_type": "stream",
     "text": [
      "Seaside community has information of buildings built between year 0 and 2203\n"
     ]
    }
   ],
   "source": [
    "Min_Year = buildings_data[\"year_built\"].min()\n",
    "Max_Year = buildings_data[\"year_built\"].max()\n",
    "print(\"{} community has information of buildings built between year\".format(Community), Min_Year,\"and\",Max_Year )"
   ]
  },
  {
   "cell_type": "markdown",
   "id": "alternative-arrangement",
   "metadata": {},
   "source": [
    "#### Average Age of Buildigns"
   ]
  },
  {
   "cell_type": "code",
   "execution_count": 64,
   "id": "expressed-statement",
   "metadata": {},
   "outputs": [
    {
     "name": "stdout",
     "output_type": "stream",
     "text": [
      "The average age of buildings in the Seaside commuinity is 70.36845479803377\n"
     ]
    }
   ],
   "source": [
    "buildings_data[\"Age\"] = 2021 - buildings_data[\"year_built\"]\n",
    "Avg_Age = buildings_data[\"Age\"].mean()\n",
    "print(\"The average age of buildings in the {} commuinity is\".format(Community), Avg_Age)"
   ]
  },
  {
   "cell_type": "code",
   "execution_count": null,
   "id": "atomic-giving",
   "metadata": {},
   "outputs": [],
   "source": []
  }
 ],
 "metadata": {
  "kernelspec": {
   "display_name": "Python 3",
   "language": "python",
   "name": "python3"
  },
  "language_info": {
   "codemirror_mode": {
    "name": "ipython",
    "version": 3
   },
   "file_extension": ".py",
   "mimetype": "text/x-python",
   "name": "python",
   "nbconvert_exporter": "python",
   "pygments_lexer": "ipython3",
   "version": "3.7.8"
  }
 },
 "nbformat": 4,
 "nbformat_minor": 5
}
