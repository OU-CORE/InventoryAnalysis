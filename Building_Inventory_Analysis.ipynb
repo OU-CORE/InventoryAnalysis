{
 "cells": [
  {
   "cell_type": "markdown",
   "id": "coordinate-deadline",
   "metadata": {},
   "source": [
    "### Building Inventory Analysis \n",
    "by OU Core Community Resillience Lab\n",
    "\n",
    "##### Tarun Adluri\n",
    "##### Rafia Bushra\n",
    "##### Himdari Sen Gupta\n",
    "##### Yunjie Wen"
   ]
  },
  {
   "cell_type": "code",
   "execution_count": 2,
   "id": "descending-graphics",
   "metadata": {},
   "outputs": [],
   "source": [
    "import pandas as pd\n",
    "import numpy as np\n",
    "import matplotlib.pyplot as plt"
   ]
  },
  {
   "cell_type": "code",
   "execution_count": 38,
   "id": "through-software",
   "metadata": {},
   "outputs": [
    {
     "name": "stdout",
     "output_type": "stream",
     "text": [
      "Select Community: {Seaside,Joplin,Lumberton,Shelby} : Seaside\n"
     ]
    }
   ],
   "source": [
    "Community = (input(\"Select Community: {Seaside,Joplin,Lumberton,Shelby} : \"))"
   ]
  },
  {
   "cell_type": "code",
   "execution_count": 65,
   "id": "lightweight-antigua",
   "metadata": {},
   "outputs": [],
   "source": [
    "buildings_data = pd.read_csv(\"{}_Building_Inventory.csv\".format(Community))\n",
    "population = pd.read_csv(\"{}_addresspointinventory.csv\".format(Community))"
   ]
  },
  {
   "cell_type": "markdown",
   "id": "reliable-fifty",
   "metadata": {},
   "source": [
    "#### Number of Buildings"
   ]
  },
  {
   "cell_type": "code",
   "execution_count": 12,
   "id": "becoming-washer",
   "metadata": {},
   "outputs": [
    {
     "name": "stdout",
     "output_type": "stream",
     "text": [
      "<class 'pandas.core.frame.DataFrame'>\n",
      "RangeIndex: 4679 entries, 0 to 4678\n",
      "Data columns (total 36 columns):\n",
      " #   Column      Non-Null Count  Dtype  \n",
      "---  ------      --------------  -----  \n",
      " 0   parid       0 non-null      float64\n",
      " 1   parid_card  0 non-null      float64\n",
      " 2   bldg_id     0 non-null      float64\n",
      " 3   struct_typ  4679 non-null   object \n",
      " 4   str_prob    0 non-null      float64\n",
      " 5   year_built  4679 non-null   int64  \n",
      " 6   no_stories  4679 non-null   int64  \n",
      " 7   a_stories   0 non-null      float64\n",
      " 8   b_stories   0 non-null      float64\n",
      " 9   bsmt_type   0 non-null      float64\n",
      " 10  sq_foot     0 non-null      float64\n",
      " 11  gsq_foot    0 non-null      float64\n",
      " 12  occ_type    0 non-null      float64\n",
      " 13  occ_detail  0 non-null      float64\n",
      " 14  major_occ   0 non-null      float64\n",
      " 15  broad_occ   0 non-null      float64\n",
      " 16  appr_bldg   4679 non-null   int64  \n",
      " 17  repl_cst    0 non-null      float64\n",
      " 18  str_cst     0 non-null      float64\n",
      " 19  nstra_cst   0 non-null      float64\n",
      " 20  nstrd_cst   0 non-null      float64\n",
      " 21  dgn_lvl     4679 non-null   object \n",
      " 22  cont_val    0 non-null      float64\n",
      " 23  efacility   0 non-null      float64\n",
      " 24  dwell_unit  0 non-null      float64\n",
      " 25  str_typ2    4679 non-null   object \n",
      " 26  occ_typ2    0 non-null      float64\n",
      " 27  tract_id    0 non-null      float64\n",
      " 28  guid        4679 non-null   object \n",
      " 29  FID_NEW     4679 non-null   int64  \n",
      " 30  origin      4679 non-null   int64  \n",
      " 31  stat_class  4679 non-null   int64  \n",
      " 32  rmv_improv  4679 non-null   float64\n",
      " 33  rmv_land    4679 non-null   float64\n",
      " 34  elev        4679 non-null   float64\n",
      " 35  period      4679 non-null   float64\n",
      "dtypes: float64(26), int64(6), object(4)\n",
      "memory usage: 1.3+ MB\n"
     ]
    }
   ],
   "source": [
    "buildings_data.info()"
   ]
  },
  {
   "cell_type": "code",
   "execution_count": 54,
   "id": "welsh-semester",
   "metadata": {},
   "outputs": [
    {
     "name": "stdout",
     "output_type": "stream",
     "text": [
      "The number of buildings in the Seaside community are 4679\n"
     ]
    }
   ],
   "source": [
    "Count = len(buildings_data)\n",
    "print(\"The number of buildings in the {} community are\".format(Community),Count)"
   ]
  },
  {
   "cell_type": "markdown",
   "id": "middle-ranch",
   "metadata": {},
   "source": [
    "#### Number of Buildigns in Each Archetype"
   ]
  },
  {
   "cell_type": "code",
   "execution_count": 59,
   "id": "enormous-violation",
   "metadata": {},
   "outputs": [
    {
     "name": "stdout",
     "output_type": "stream",
     "text": [
      "Total Number of Buildings in the Seaside community for each Archetype: \n",
      " W1    2444\n",
      "RC    1504\n",
      "W2     731\n",
      "Name: struct_typ, dtype: int64\n"
     ]
    }
   ],
   "source": [
    "Type = buildings_data[\"struct_typ\"].value_counts()\n",
    "print(\"Total Number of Buildings in the {} community for each Archetype: \\n\".format(Community), Type)"
   ]
  },
  {
   "cell_type": "markdown",
   "id": "civilian-burden",
   "metadata": {},
   "source": [
    "#### Total Number of Buildings in Each Retrofit Level"
   ]
  },
  {
   "cell_type": "code",
   "execution_count": 60,
   "id": "major-export",
   "metadata": {},
   "outputs": [
    {
     "name": "stdout",
     "output_type": "stream",
     "text": [
      "Total Number of Buildings in the Seaside community for each Retrofit Level: \n",
      " Pre - Code         2472\n",
      "Moderate - Code     849\n",
      "Low - Code          775\n",
      "High - Code         583\n",
      "Name: dgn_lvl, dtype: int64\n"
     ]
    }
   ],
   "source": [
    "Retrofit = buildings_data[\"dgn_lvl\"].value_counts()\n",
    "print(\"Total Number of Buildings in the {} community for each Retrofit Level: \\n\".format(Community), Retrofit)"
   ]
  },
  {
   "cell_type": "markdown",
   "id": "overhead-digit",
   "metadata": {},
   "source": [
    "#### Total RMV of Buildings"
   ]
  },
  {
   "cell_type": "code",
   "execution_count": 61,
   "id": "overall-rwanda",
   "metadata": {},
   "outputs": [
    {
     "name": "stdout",
     "output_type": "stream",
     "text": [
      "Total Market Value of buildings in the Seaside community is $ 818423794.0\n"
     ]
    }
   ],
   "source": [
    "TotalMarketValue = buildings_data[\"rmv_improv\"].sum()\n",
    "print(\"Total Market Value of buildings in the {} community is $\".format(Community),TotalMarketValue)"
   ]
  },
  {
   "cell_type": "code",
   "execution_count": 62,
   "id": "polished-valley",
   "metadata": {},
   "outputs": [
    {
     "name": "stdout",
     "output_type": "stream",
     "text": [
      "Seaside community range of retail market value $ 0.0 and $ 17697441.0\n"
     ]
    }
   ],
   "source": [
    "Min_RMV = buildings_data[\"rmv_improv\"].min()\n",
    "Max_RMV = buildings_data[\"rmv_improv\"].max()\n",
    "print(\"{} community range of retail market value $\".format(Community), Min_RMV,\"and $\",Max_RMV )"
   ]
  },
  {
   "cell_type": "markdown",
   "id": "complimentary-uzbekistan",
   "metadata": {},
   "source": [
    "#### Year Built Information of Buildings "
   ]
  },
  {
   "cell_type": "code",
   "execution_count": 63,
   "id": "every-circumstances",
   "metadata": {},
   "outputs": [
    {
     "name": "stdout",
     "output_type": "stream",
     "text": [
      "Seaside community has information of buildings built between year 0 and 2203\n"
     ]
    }
   ],
   "source": [
    "Min_Year = buildings_data[\"year_built\"].min()\n",
    "Max_Year = buildings_data[\"year_built\"].max()\n",
    "print(\"{} community has information of buildings built between year\".format(Community), Min_Year,\"and\",Max_Year )"
   ]
  },
  {
   "cell_type": "markdown",
   "id": "alternative-arrangement",
   "metadata": {},
   "source": [
    "#### Average Age of Buildings"
   ]
  },
  {
   "cell_type": "code",
   "execution_count": 64,
   "id": "expressed-statement",
   "metadata": {},
   "outputs": [
    {
     "name": "stdout",
     "output_type": "stream",
     "text": [
      "The average age of buildings in the Seaside commuinity is 70.36845479803377\n"
     ]
    }
   ],
   "source": [
    "buildings_data[\"Age\"] = 2021 - buildings_data[\"year_built\"]\n",
    "Avg_Age = buildings_data[\"Age\"].mean()\n",
    "print(\"The average age of buildings in the {} commuinity is\".format(Community), Avg_Age)"
   ]
  },
  {
   "cell_type": "markdown",
   "id": "cleared-priority",
   "metadata": {},
   "source": [
    "#### Total Population"
   ]
  },
  {
   "cell_type": "code",
   "execution_count": 74,
   "id": "mexican-statement",
   "metadata": {},
   "outputs": [
    {
     "name": "stdout",
     "output_type": "stream",
     "text": [
      "Population of Seaside community: 5988\n"
     ]
    }
   ],
   "source": [
    "Num_Residential = population[\"residential\"].sum() \n",
    "print(\"Population of {} community:\".format(Community),Num_Residential)"
   ]
  },
  {
   "cell_type": "code",
   "execution_count": 76,
   "id": "endless-frame",
   "metadata": {},
   "outputs": [
    {
     "data": {
      "text/html": [
       "<div>\n",
       "<style scoped>\n",
       "    .dataframe tbody tr th:only-of-type {\n",
       "        vertical-align: middle;\n",
       "    }\n",
       "\n",
       "    .dataframe tbody tr th {\n",
       "        vertical-align: top;\n",
       "    }\n",
       "\n",
       "    .dataframe thead th {\n",
       "        text-align: right;\n",
       "    }\n",
       "</style>\n",
       "<table border=\"1\" class=\"dataframe\">\n",
       "  <thead>\n",
       "    <tr style=\"text-align: right;\">\n",
       "      <th></th>\n",
       "      <th>blockid</th>\n",
       "      <th>addrptid</th>\n",
       "      <th>strctid</th>\n",
       "      <th>x</th>\n",
       "      <th>y</th>\n",
       "      <th>huestimate</th>\n",
       "      <th>residential</th>\n",
       "    </tr>\n",
       "  </thead>\n",
       "  <tbody>\n",
       "    <tr>\n",
       "      <th>0</th>\n",
       "      <td>410079511001025</td>\n",
       "      <td>41007000000020005S001001A</td>\n",
       "      <td>41007000000020005S</td>\n",
       "      <td>-123.900452</td>\n",
       "      <td>46.010494</td>\n",
       "      <td>1</td>\n",
       "      <td>1</td>\n",
       "    </tr>\n",
       "    <tr>\n",
       "      <th>1</th>\n",
       "      <td>410079511003005</td>\n",
       "      <td>41007000000020009S001001A</td>\n",
       "      <td>41007000000020009S</td>\n",
       "      <td>-123.932060</td>\n",
       "      <td>45.979836</td>\n",
       "      <td>1</td>\n",
       "      <td>1</td>\n",
       "    </tr>\n",
       "    <tr>\n",
       "      <th>2</th>\n",
       "      <td>410079507002020</td>\n",
       "      <td>41007020802001001S001001A</td>\n",
       "      <td>41007020802001001S</td>\n",
       "      <td>-123.918625</td>\n",
       "      <td>46.017567</td>\n",
       "      <td>1</td>\n",
       "      <td>1</td>\n",
       "    </tr>\n",
       "    <tr>\n",
       "      <th>3</th>\n",
       "      <td>410079507002040</td>\n",
       "      <td>41007020853008001S001001A</td>\n",
       "      <td>41007020853008001S</td>\n",
       "      <td>-123.913643</td>\n",
       "      <td>46.017326</td>\n",
       "      <td>1</td>\n",
       "      <td>1</td>\n",
       "    </tr>\n",
       "    <tr>\n",
       "      <th>4</th>\n",
       "      <td>410079507002040</td>\n",
       "      <td>41007020853008002S001001A</td>\n",
       "      <td>41007020853008002S</td>\n",
       "      <td>-123.913643</td>\n",
       "      <td>46.017326</td>\n",
       "      <td>1</td>\n",
       "      <td>1</td>\n",
       "    </tr>\n",
       "    <tr>\n",
       "      <th>...</th>\n",
       "      <td>...</td>\n",
       "      <td>...</td>\n",
       "      <td>...</td>\n",
       "      <td>...</td>\n",
       "      <td>...</td>\n",
       "      <td>...</td>\n",
       "      <td>...</td>\n",
       "    </tr>\n",
       "    <tr>\n",
       "      <th>5983</th>\n",
       "      <td>410079511003077</td>\n",
       "      <td>41007026497001001S001001A</td>\n",
       "      <td>41007026497001001S</td>\n",
       "      <td>-123.942680</td>\n",
       "      <td>45.972363</td>\n",
       "      <td>1</td>\n",
       "      <td>1</td>\n",
       "    </tr>\n",
       "    <tr>\n",
       "      <th>5984</th>\n",
       "      <td>410079511003076</td>\n",
       "      <td>41007026498001001S001001A</td>\n",
       "      <td>41007026498001001S</td>\n",
       "      <td>-123.943321</td>\n",
       "      <td>45.972286</td>\n",
       "      <td>1</td>\n",
       "      <td>1</td>\n",
       "    </tr>\n",
       "    <tr>\n",
       "      <th>5985</th>\n",
       "      <td>410079511003002</td>\n",
       "      <td>41007026500001001S001001A</td>\n",
       "      <td>41007026500001001S</td>\n",
       "      <td>-123.941330</td>\n",
       "      <td>45.972206</td>\n",
       "      <td>1</td>\n",
       "      <td>1</td>\n",
       "    </tr>\n",
       "    <tr>\n",
       "      <th>5986</th>\n",
       "      <td>410079511003077</td>\n",
       "      <td>41007026501001001S001001A</td>\n",
       "      <td>41007026501001001S</td>\n",
       "      <td>-123.942200</td>\n",
       "      <td>45.972202</td>\n",
       "      <td>1</td>\n",
       "      <td>1</td>\n",
       "    </tr>\n",
       "    <tr>\n",
       "      <th>5987</th>\n",
       "      <td>410079511003077</td>\n",
       "      <td>41007026505001001S001001A</td>\n",
       "      <td>41007026505001001S</td>\n",
       "      <td>-123.941589</td>\n",
       "      <td>45.972042</td>\n",
       "      <td>1</td>\n",
       "      <td>1</td>\n",
       "    </tr>\n",
       "  </tbody>\n",
       "</table>\n",
       "<p>3687 rows × 7 columns</p>\n",
       "</div>"
      ],
      "text/plain": [
       "              blockid                   addrptid             strctid  \\\n",
       "0     410079511001025  41007000000020005S001001A  41007000000020005S   \n",
       "1     410079511003005  41007000000020009S001001A  41007000000020009S   \n",
       "2     410079507002020  41007020802001001S001001A  41007020802001001S   \n",
       "3     410079507002040  41007020853008001S001001A  41007020853008001S   \n",
       "4     410079507002040  41007020853008002S001001A  41007020853008002S   \n",
       "...               ...                        ...                 ...   \n",
       "5983  410079511003077  41007026497001001S001001A  41007026497001001S   \n",
       "5984  410079511003076  41007026498001001S001001A  41007026498001001S   \n",
       "5985  410079511003002  41007026500001001S001001A  41007026500001001S   \n",
       "5986  410079511003077  41007026501001001S001001A  41007026501001001S   \n",
       "5987  410079511003077  41007026505001001S001001A  41007026505001001S   \n",
       "\n",
       "               x          y  huestimate  residential  \n",
       "0    -123.900452  46.010494           1            1  \n",
       "1    -123.932060  45.979836           1            1  \n",
       "2    -123.918625  46.017567           1            1  \n",
       "3    -123.913643  46.017326           1            1  \n",
       "4    -123.913643  46.017326           1            1  \n",
       "...          ...        ...         ...          ...  \n",
       "5983 -123.942680  45.972363           1            1  \n",
       "5984 -123.943321  45.972286           1            1  \n",
       "5985 -123.941330  45.972206           1            1  \n",
       "5986 -123.942200  45.972202           1            1  \n",
       "5987 -123.941589  45.972042           1            1  \n",
       "\n",
       "[3687 rows x 7 columns]"
      ]
     },
     "execution_count": 76,
     "metadata": {},
     "output_type": "execute_result"
    }
   ],
   "source": [
    "population.drop_duplicates(subset=['strctid'])"
   ]
  },
  {
   "cell_type": "code",
   "execution_count": null,
   "id": "smooth-extra",
   "metadata": {},
   "outputs": [],
   "source": []
  }
 ],
 "metadata": {
  "kernelspec": {
   "display_name": "Python 3",
   "language": "python",
   "name": "python3"
  },
  "language_info": {
   "codemirror_mode": {
    "name": "ipython",
    "version": 3
   },
   "file_extension": ".py",
   "mimetype": "text/x-python",
   "name": "python",
   "nbconvert_exporter": "python",
   "pygments_lexer": "ipython3",
   "version": "3.7.8"
  }
 },
 "nbformat": 4,
 "nbformat_minor": 5
}
